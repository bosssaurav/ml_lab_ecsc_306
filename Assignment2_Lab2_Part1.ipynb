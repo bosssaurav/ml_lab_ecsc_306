{
 "cells": [
  {
   "cell_type": "code",
   "execution_count": null,
   "metadata": {
    "collapsed": true
   },
   "outputs": [],
   "source": [
    "#the graph of decreasing cost function wrt learning rate and epoch\n",
    "#Start with random values of theta1 & theta2 . Analyse best approach for initial values of θ1 & θ2."
   ]
  },
  {
   "cell_type": "code",
   "execution_count": 2,
   "metadata": {
    "collapsed": true
   },
   "outputs": [],
   "source": [
    "import tensorflow as tf\n",
    "import numpy as np\n",
    "import matplotlib.pyplot as plt "
   ]
  },
  {
   "cell_type": "code",
   "execution_count": 80,
   "metadata": {
    "collapsed": true
   },
   "outputs": [],
   "source": [
    "train_X=numpy.asarray([1,2,4,3,5])\n",
    "train_Y=numpy.asarray([1,3,3,2,5])\n",
    "n_samples = train_X.shape[0]"
   ]
  },
  {
   "cell_type": "code",
   "execution_count": 81,
   "metadata": {
    "collapsed": true
   },
   "outputs": [],
   "source": [
    "X = tf.placeholder(\"float\")\n",
    "Y = tf.placeholder(\"float\")\n",
    "W = tf.Variable(np.random.randn(), name=\"weight\")\n",
    "b = tf.Variable(np.random.randn(), name=\"bias\")\n",
    "pred = tf.add(tf.multiply(X, W), b)\n",
    "cost = tf.reduce_sum(tf.pow(pred-Y, 2))/(2*n_samples)\n",
    "w_rnd=[]\n",
    "b_rnd=[]\n",
    "ep_rnd=[]\n",
    "cst_rnd=[]"
   ]
  },
  {
   "cell_type": "code",
   "execution_count": 82,
   "metadata": {},
   "outputs": [
    {
     "name": "stdout",
     "output_type": "stream",
     "text": [
      "LEARNING RATE= 0.05 \t Epoch= 1000 \n",
      "\n",
      "\n",
      "Epoch: 0050 cost= 0.240961939 W= 0.81534 b= 0.392101\n",
      "Epoch: 0100 cost= 0.240978047 W= 0.819704 b= 0.375231\n",
      "Epoch: 0150 cost= 0.241016150 W= 0.82252 b= 0.364346\n",
      "Epoch: 0200 cost= 0.241052344 W= 0.824337 b= 0.357321\n",
      "Epoch: 0250 cost= 0.241080478 W= 0.82551 b= 0.352788\n",
      "Epoch: 0300 cost= 0.241100669 W= 0.826266 b= 0.349863\n",
      "Epoch: 0350 cost= 0.241114587 W= 0.826755 b= 0.347975\n",
      "Epoch: 0400 cost= 0.241123751 W= 0.82707 b= 0.346757\n",
      "Epoch: 0450 cost= 0.241129920 W= 0.827273 b= 0.345971\n",
      "Epoch: 0500 cost= 0.241134048 W= 0.827404 b= 0.345463\n",
      "Epoch: 0550 cost= 0.241136596 W= 0.827489 b= 0.345136\n",
      "Epoch: 0600 cost= 0.241138384 W= 0.827544 b= 0.344925\n",
      "Epoch: 0650 cost= 0.241139412 W= 0.827579 b= 0.344789\n",
      "Epoch: 0700 cost= 0.241140157 W= 0.827602 b= 0.344701\n",
      "Epoch: 0750 cost= 0.241140559 W= 0.827616 b= 0.344644\n",
      "Epoch: 0800 cost= 0.241140917 W= 0.827626 b= 0.344607\n",
      "Epoch: 0850 cost= 0.241141051 W= 0.827632 b= 0.344584\n",
      "Epoch: 0900 cost= 0.241141245 W= 0.827636 b= 0.344568\n",
      "Epoch: 0950 cost= 0.241141230 W= 0.827639 b= 0.344559\n",
      "Epoch: 1000 cost= 0.241141319 W= 0.82764 b= 0.344553\n",
      "Optimization Finished!\n",
      "Training cost= 0.241141 W= 0.82764 b= 0.344553 \n",
      "\n"
     ]
    }
   ],
   "source": [
    "    \n",
    "    learning_rate=0.05\n",
    "    training_epochs=1000\n",
    "    display_step = 50\n",
    "    print(\"LEARNING RATE=\",learning_rate,\"\\t Epoch=\",training_epochs,\"\\n\\n\")\n",
    "    optimizer = tf.train.GradientDescentOptimizer(learning_rate).minimize(cost)\n",
    "\n",
    "    init = tf.global_variables_initializer()\n",
    "    with tf.Session() as sess:\n",
    "        sess.run(init)\n",
    "\n",
    "    # Fit all training data\n",
    "        for epoch in range(training_epochs):\n",
    "            for (x, y) in zip(train_X, train_Y):\n",
    "                sess.run(optimizer, feed_dict={X: x, Y: y})\n",
    "\n",
    "        #Display logs per epoch step\n",
    "            if (epoch+1) % display_step == 0:\n",
    "                c = sess.run(cost, feed_dict={X: train_X, Y:train_Y})\n",
    "                print (\"Epoch:\", '%04d' % (epoch+1), \"cost=\", \"{:.9f}\".format(c), \\\n",
    "                \"W=\", sess.run(W), \"b=\", sess.run(b))\n",
    "                w_rnd.append(sess.run(W))\n",
    "                b_rnd.append(sess.run(b))\n",
    "                ep_rnd.append(epoch)\n",
    "                cst_rnd.append(c)\n",
    "\n",
    "        print (\"Optimization Finished!\")\n",
    "        training_cost = sess.run(cost, feed_dict={X: train_X, Y: train_Y})\n",
    "        print (\"Training cost=\", training_cost, \"W=\", sess.run(W), \"b=\", sess.run(b), '\\n')\n",
    " "
   ]
  },
  {
   "cell_type": "code",
   "execution_count": 83,
   "metadata": {},
   "outputs": [
    {
     "name": "stdout",
     "output_type": "stream",
     "text": [
      "LEARNING RATE= 0.05 \t Epoch= 1000 \n",
      "\n",
      "\n",
      "Epoch: 0050 cost= 0.242040664 W= 0.844209 b= 0.280501\n",
      "Epoch: 0100 cost= 0.241635278 W= 0.838333 b= 0.303215\n",
      "Epoch: 0150 cost= 0.241424233 W= 0.834541 b= 0.317873\n",
      "Epoch: 0200 cost= 0.241308883 W= 0.832095 b= 0.327332\n",
      "Epoch: 0250 cost= 0.241243333 W= 0.830516 b= 0.333436\n",
      "Epoch: 0300 cost= 0.241204545 W= 0.829497 b= 0.337375\n",
      "Epoch: 0350 cost= 0.241181165 W= 0.828839 b= 0.339916\n",
      "Epoch: 0400 cost= 0.241166592 W= 0.828415 b= 0.341556\n",
      "Epoch: 0450 cost= 0.241157413 W= 0.828141 b= 0.342615\n",
      "Epoch: 0500 cost= 0.241151616 W= 0.827965 b= 0.343298\n",
      "Epoch: 0550 cost= 0.241148070 W= 0.827851 b= 0.343739\n",
      "Epoch: 0600 cost= 0.241145760 W= 0.827777 b= 0.344023\n",
      "Epoch: 0650 cost= 0.241144150 W= 0.82773 b= 0.344207\n",
      "Epoch: 0700 cost= 0.241143256 W= 0.827699 b= 0.344325\n",
      "Epoch: 0750 cost= 0.241142586 W= 0.827679 b= 0.344402\n",
      "Epoch: 0800 cost= 0.241142109 W= 0.827666 b= 0.344451\n",
      "Epoch: 0850 cost= 0.241141945 W= 0.827658 b= 0.344482\n",
      "Epoch: 0900 cost= 0.241141796 W= 0.827653 b= 0.344503\n",
      "Epoch: 0950 cost= 0.241141632 W= 0.827649 b= 0.344516\n",
      "Epoch: 1000 cost= 0.241141558 W= 0.827647 b= 0.344525\n",
      "Optimization Finished!\n",
      "Training cost= 0.241142 W= 0.827647 b= 0.344525 \n",
      "\n"
     ]
    }
   ],
   "source": [
    "    W = tf.Variable(0.0, name=\"weight\")\n",
    "    b = tf.Variable(0.0, name=\"bias\")\n",
    "    pred = tf.add(tf.multiply(X, W), b)\n",
    "    cost = tf.reduce_sum(tf.pow(pred-Y, 2))/(2*n_samples)\n",
    "    epo=[]\n",
    "    cst=[]\n",
    "    w1=[]\n",
    "    b1=[]\n",
    "    learning_rate=0.05\n",
    "    training_epochs=1000\n",
    "    display_step = 50\n",
    "    print(\"LEARNING RATE=\",learning_rate,\"\\t Epoch=\",training_epochs,\"\\n\\n\")\n",
    "    optimizer = tf.train.GradientDescentOptimizer(learning_rate).minimize(cost)\n",
    "\n",
    "    init = tf.global_variables_initializer()\n",
    "    with tf.Session() as sess:\n",
    "        sess.run(init)\n",
    "\n",
    "    # Fit all training data\n",
    "        for epoch in range(training_epochs):\n",
    "            for (x, y) in zip(train_X, train_Y):\n",
    "                sess.run(optimizer, feed_dict={X: x, Y: y})\n",
    "\n",
    "        #Display logs per epoch step\n",
    "            if (epoch+1) % display_step == 0:\n",
    "                c = sess.run(cost, feed_dict={X: train_X, Y:train_Y})\n",
    "                print (\"Epoch:\", '%04d' % (epoch+1), \"cost=\", \"{:.9f}\".format(c), \\\n",
    "                \"W=\", sess.run(W), \"b=\", sess.run(b))\n",
    "                epo.append(epoch)\n",
    "                cst.append(c)\n",
    "                w1.append(sess.run(W))\n",
    "                b1.append(sess.run(b))\n",
    "\n",
    "\n",
    "        print (\"Optimization Finished!\")\n",
    "        training_cost = sess.run(cost, feed_dict={X: train_X, Y: train_Y})\n",
    "        print (\"Training cost=\", training_cost, \"W=\", sess.run(W), \"b=\", sess.run(b), '\\n')\n"
   ]
  },
  {
   "cell_type": "code",
   "execution_count": 84,
   "metadata": {},
   "outputs": [
    {
     "data": {
      "image/png": "[encoded data removed]",
      "text/plain": [
       "<matplotlib.figure.Figure at 0x7fc36cf23a58>"
      ]
     },
     "metadata": {},
     "output_type": "display_data"
    }
   ],
   "source": [
    "plt.plot(epo,cst, label='Epoch wrt to Cost θ1 & θ2=0')\n",
    "plt.plot(ep_rnd,cst_rnd, label='θ1 & θ2=Random')\n",
    "plt.legend()\n",
    "plt.show()\n",
    "plt.close()"
   ]
  },
  {
   "cell_type": "code",
   "execution_count": 85,
   "metadata": {},
   "outputs": [
    {
     "data": {
      "image/png": "[encoded data removed]",
      "text/plain": [
       "<matplotlib.figure.Figure at 0x7fc36d97a470>"
      ]
     },
     "metadata": {},
     "output_type": "display_data"
    }
   ],
   "source": [
    "#2\n",
    "#Start with random values of theta1 & theta2 . Analyse best approach for initial values of θ1 & θ2.\n",
    "plt.plot(w_rnd,b_rnd,label='θ1 & θ2=Random')\n",
    "plt.plot(w1,b1, label='θ1 & θ2=0')\n",
    "plt.legend()\n",
    "plt.show()\n",
    "\n"
   ]
  },
  {
   "cell_type": "code",
   "execution_count": null,
   "metadata": {
    "collapsed": true
   },
   "outputs": [],
   "source": [
    "#From the Above both graph it can be analysed that when θ1 & θ2=0 or random the θ1 & θ2 values for the plot is not \n",
    "#affected much \n",
    "#But when Analysed the Graph of Epoch and Cost when θ1 & θ2 =0 and random respectively it seems that there\n",
    "#is variation in both the graph\n",
    "#from the graph it can be said that θ1 & θ2= some random value is favorable because from random value to some stable \n",
    "#value may take or may require more no. of iterations but since much more learning takes place it makes our learning \n",
    "#algorithm more efficient "
   ]
  },
  {
   "cell_type": "code",
   "execution_count": 86,
   "metadata": {
    "collapsed": true
   },
   "outputs": [],
   "source": [
    "#Compare time complexity of tensorflow api and user defined function\n",
    "\n",
    "#the TIme complexity of the user defined functions is less when compared to the TensorFlow API and user defined functions \n",
    "#are comparitively faster however when it comes to the real time Data Sets or the real world data then user defined functions\n",
    "#tend to fail and Tensor Flow Api in such cases perform functions very faster irrespective of Data size and the Tensor Flow \n",
    "#API have inbuilt modules to check over false Data. "
   ]
  },
  {
   "cell_type": "code",
   "execution_count": null,
   "metadata": {
    "collapsed": true
   },
   "outputs": [],
   "source": [
    "#2. Implement 3 cost functions\n",
    "\n",
    "\n"
   ]
  },
  {
   "cell_type": "code",
   "execution_count": 4,
   "metadata": {},
   "outputs": [
    {
     "name": "stdout",
     "output_type": "stream",
     "text": [
      "Root Mean Square ERROR=  2.13889\n"
     ]
    }
   ],
   "source": [
    "ar2=tf.constant([2,2,4,6,5,4],name=\"Array_Y\",dtype=\"float\") \n",
    "mean_y=tf.reduce_mean(ar2)\n",
    "ses=tf.Session()\n",
    "dif=tf.square(ar2-mean_y)\n",
    "rms=(tf.reduce_sum(dif))/6\n",
    "print (\"Root Mean Square ERROR= \",ses.run(rms))\n"
   ]
  },
  {
   "cell_type": "code",
   "execution_count": null,
   "metadata": {
    "collapsed": true
   },
   "outputs": [],
   "source": []
  }
 ],
 "metadata": {
  "kernelspec": {
   "display_name": "Python 3",
   "language": "python",
   "name": "python3"
  },
  "language_info": {
   "codemirror_mode": {
    "name": "ipython",
    "version": 3
   },
   "file_extension": ".py",
   "mimetype": "text/x-python",
   "name": "python",
   "nbconvert_exporter": "python",
   "pygments_lexer": "ipython3",
   "version": "3.6.1"
  }
 },
 "nbformat": 4,
 "nbformat_minor": 2
}
