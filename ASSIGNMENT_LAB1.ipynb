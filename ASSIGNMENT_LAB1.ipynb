{
 "cells": [
  {
   "cell_type": "code",
   "execution_count": null,
   "metadata": {
    "collapsed": true
   },
   "outputs": [],
   "source": [
    "#LAB 1 ASSIGNMENT\n",
    "#1"
   ]
  },
  {
   "cell_type": "code",
   "execution_count": 1,
   "metadata": {},
   "outputs": [
    {
     "name": "stdout",
     "output_type": "stream",
     "text": [
      "Enter the value for A-> 4\n",
      "Enter the value for B-> 3\n",
      "1\n"
     ]
    }
   ],
   "source": [
    "import tensorflow as tf\n",
    "\n",
    "\n",
    "a=input(\"Enter the value for A-> \")\n",
    "\n",
    "b=input(\"Enter the value for B-> \")\n",
    "#print(type(a))\n",
    "a=int(a)\n",
    "b=int(b)\n",
    "#print (a+\"  \"+b)\n",
    "\n",
    "with tf.name_scope(\"LEVEL1\"):\n",
    "    with tf.name_scope(\"Computing_SQUARES\"):\n",
    "        c=tf.multiply(a,a,name=\"A_mul_A\")\n",
    "        d=tf.multiply(b,b,name=\"B_mul_B\")\n",
    "    with tf.name_scope(\"Computing_A_mul_B\"):\n",
    "        e=tf.multiply(a,b,name=\"a_mul_b\")\n",
    "\n",
    "with tf.name_scope(\"LEVEl2\"):\n",
    "    f=tf.add(c,d,name=\"ADDINGsQUARES\")\n",
    "    g=tf.multiply(e,2,name=\"MUL_with_2\")\n",
    "                      \n",
    "h=tf.subtract(f,g,name=\"ANSWER\")\n",
    "                      \n",
    "with tf.Session() as sess:\n",
    "    writer=tf.summary.FileWriter(\"/tmp/tboard/assign1\", sess.graph)\n",
    "    print(sess.run(h))\n",
    "    writer.close()\n",
    "                    \n",
    "    "
   ]
  },
  {
   "cell_type": "code",
   "execution_count": 6,
   "metadata": {},
   "outputs": [
    {
     "name": "stdout",
     "output_type": "stream",
     "text": [
      "Enter the value for A-> 3\n",
      "Enter the value for B-> 4\n",
      "343\n"
     ]
    }
   ],
   "source": [
    "import tensorflow as tf\n",
    "\n",
    "\n",
    "a=input(\"Enter the value for A-> \")\n",
    "\n",
    "b=input(\"Enter the value for B-> \")\n",
    "#print(type(a))\n",
    "a=int(a)\n",
    "b=int(b)\n",
    "\n",
    "with tf.name_scope(\"LEVEL_1\"):\n",
    "    with tf.name_scope(\"Computing_CUBES\"):\n",
    "        c=tf.multiply(a,a*a,name=\"A_3\")\n",
    "        d=tf.multiply(b,b*b,name=\"B_3\")\n",
    "        \n",
    "with tf.name_scope(\"Computing_Intermediates\"):\n",
    "    with tf.name_scope(\"BASE\"):\n",
    "        e=tf.multiply(a,3*b,name=\"3_a_b\")\n",
    "        f=tf.add(a,b,name=\"a_plus_b\")\n",
    "    with tf.name_scope(\"MULtiply_with_3\"):\n",
    "        g=tf.multiply(e,f,name=\"MUL\")\n",
    "\n",
    "with tf.name_scope(\"Performing_Computations\"):\n",
    "    h=tf.add(c,d)\n",
    "    i=tf.add(h,g,name=\"FINAL_RESULT\")\n",
    "\n",
    "                      \n",
    "with tf.Session() as sess:\n",
    "    writer=tf.summary.FileWriter(\"/tmp/tboard/assin_2\", sess.graph)\n",
    "    print(sess.run(i))\n",
    "    writer.close()"
   ]
  },
  {
   "cell_type": "code",
   "execution_count": null,
   "metadata": {
    "collapsed": true
   },
   "outputs": [],
   "source": []
  }
 ],
 "metadata": {
  "kernelspec": {
   "display_name": "Python 3",
   "language": "python",
   "name": "python3"
  },
  "language_info": {
   "codemirror_mode": {
    "name": "ipython",
    "version": 3
   },
   "file_extension": ".py",
   "mimetype": "text/x-python",
   "name": "python",
   "nbconvert_exporter": "python",
   "pygments_lexer": "ipython3",
   "version": "3.6.1"
  }
 },
 "nbformat": 4,
 "nbformat_minor": 2
}
