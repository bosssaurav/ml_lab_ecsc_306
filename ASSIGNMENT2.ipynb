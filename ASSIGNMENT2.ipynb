{
 "cells": [
  {
   "cell_type": "code",
   "execution_count": 71,
   "metadata": {},
   "outputs": [
    {
     "name": "stdout",
     "output_type": "stream",
     "text": [
      "3.5 3.83333\n",
      "VARIANCE=  17.5\n",
      "COVARIANCE= 10.5\n",
      "m =  0.6\n",
      "c =  1.73333\n",
      "Root Mean Square ERROR=  2.13889\n"
     ]
    }
   ],
   "source": [
    "import tensorflow as tf\n",
    "\n",
    "#1\n",
    "#ar1=tf.constant([1,2,3,4,5,6],name=\"Array1\",dtype=\"float\",shape=(2,3))  #DIMENSIONING @SHAPE\n",
    "\n",
    "#ar1.get_shape()   #GETSTHE shAPE\n",
    "\n",
    "\n",
    "ar1=tf.constant([1,2,3,4,5,6],name=\"Array_X\",dtype=\"float\")\n",
    "ar2=tf.constant([2,2,4,6,5,4],name=\"Array_Y\",dtype=\"float\")              #FOr 1-D optional\n",
    "\n",
    "\n",
    "mean_x=tf.reduce_mean(ar1)\n",
    "\n",
    "mean_y=tf.reduce_mean(ar2)\n",
    "ses=tf.Session()\n",
    "print (ses.run(mean_x),ses.run(men1))\n",
    "\n",
    "\n",
    "dif=tf.square(ar1-mean_x)\n",
    "\n",
    "var=tf.reduce_sum(dif)\n",
    "\n",
    "print (\"VARIANCE= \",ses.run(var))\n",
    "\n",
    "#covariance=sum((x(i)−mean(x))∗(y(i)−mean(y)))\n",
    "\n",
    "z=(ar1-mean_x)*(ar2-mean_y)\n",
    "\n",
    "#print (ses.run(z))\n",
    "\n",
    "covar=tf.reduce_sum(z)\n",
    "\n",
    "\n",
    "print (\"COVARIANCE=\",ses.run(covar))\n",
    "\n",
    "\n",
    "#3\n",
    "#    $$m = covariance(x,y)/variance(x)$$\n",
    "\n",
    "m=covar/var\n",
    "\n",
    "print (\"m = \",ses.run(m))\n",
    "\n",
    "\n",
    "#4\n",
    "\n",
    "#c = mean(y) -m* mean(x)\n",
    "\n",
    "c=mean_y-(m*mean_x)\n",
    "\n",
    "print (\"c = \",ses.run(c))\n",
    "\n",
    "\n",
    "#5\n",
    "\n",
    "\n",
    "#root mean square error.= root((sum(square(y-mean(y))))/n_)\n",
    "dif=tf.square(ar2-mean_y)\n",
    "rms=(tf.reduce_sum(dif))/6\n",
    "print (\"Root Mean Square ERROR= \",ses.run(rms))\n",
    "\n",
    "\n"
   ]
  },
  {
   "cell_type": "code",
   "execution_count": null,
   "metadata": {
    "collapsed": true
   },
   "outputs": [],
   "source": []
  }
 ],
 "metadata": {
  "kernelspec": {
   "display_name": "Python 3",
   "language": "python",
   "name": "python3"
  },
  "language_info": {
   "codemirror_mode": {
    "name": "ipython",
    "version": 3
   },
   "file_extension": ".py",
   "mimetype": "text/x-python",
   "name": "python",
   "nbconvert_exporter": "python",
   "pygments_lexer": "ipython3",
   "version": "3.6.1"
  }
 },
 "nbformat": 4,
 "nbformat_minor": 2
}
